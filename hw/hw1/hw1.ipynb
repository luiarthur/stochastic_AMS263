{
 "cells": [
  {
   "cell_type": "markdown",
   "metadata": {},
   "source": [
    "Open in [nbviewer](http://nbviewer.jupyter.org/github/luiarthur/stochastic_AMS263/blob/master/hw/hw1/hw1.ipynb)\n",
    "$\n",
    "% Latex definitions\n",
    "% note: Ctrl-shfit-p for shortcuts menu\n",
    "\\newcommand{\\iid}{\\overset{iid}{\\sim}}\n",
    "\\newcommand{\\ind}{\\overset{ind}{\\sim}}\n",
    "\\newcommand{\\p}[1]{\\left(#1\\right)}\n",
    "\\newcommand{\\bk}[1]{\\left[#1\\right]}\n",
    "\\newcommand{\\bc}[1]{ \\left\\{#1\\right\\} }\n",
    "\\newcommand{\\abs}[1]{ \\left|#1\\right| }\n",
    "\\newcommand{\\norm}[1]{ \\left|\\left|#1\\right|\\right| }\n",
    "\\newcommand{\\E}{ \\text{E} }\n",
    "\\newcommand{\\N}{ \\mathcal N }\n",
    "\\newcommand{\\ds}{ \\displaystyle }\n",
    "\\newcommand{\\R}{ \\mathbb{R} }\n",
    "\\newcommand{\\suml}{ \\sum_{i=1}^n }\n",
    "\\newcommand{\\prodl}{ \\prod_{i=1}^n }\n",
    "\\newcommand{\\overunderset}[3]{\\overset{#1}{\\underset{#2}{#3}}}\n",
    "\\newcommand{\\asym}{\\overset{\\cdot}{\\sim}}\n",
    "\\newcommand{\\given}{\\bigg |}\n",
    "\\newcommand{\\M}{\\mathcal{M}}\n",
    "\\newcommand{\\Mult}{\\text{Mult}}\n",
    "\\newcommand{\\F}{\\mathcal{F}}\n",
    "\\newcommand{\\P}{\\mathcal{P}}\n",
    "$"
   ]
  },
  {
   "cell_type": "markdown",
   "metadata": {},
   "source": [
    "# 1  \n",
    "$\\newcommand{\\sumk}{\\sum_{l=1}^k}$\n",
    "$\\newcommand{\\Xti}{X_{t_i}}$\n",
    "$\\newcommand{\\Xtj}{X_{t_j}}$\n",
    "**Consider real-valued random variables $A_i,B_i$, where $i=1,...,k$, such that $\\E(A_i)=\\E(B_i)=0$ and\n",
    "Var($A_i$) =Var($B_i$) = $\\sigma^2>0$, for $i=1,...,k$. Moreover, assume they are mutually uncorrelated, that is, \n",
    "$\\E(A_i,A_j) = \\E(B_iB_j) = 0$ for $i\\ne j$, and $\\E(A_iB_j) = 0$ for all $i,j$. Define the stochastic process \n",
    "$X = \\bc{X_t: t\\in \\mathbb R}$ by $X_t = \\sumk A_i \\cos(\\omega_i t) + B_i \\sin(\\omega_i t)$, where $\\omega_i$\n",
    "are real constants $i=1,...,k$. Show that $X$ is weakly stationary. **\n",
    "\n",
    "***\n",
    "\n",
    "Recall that a stochastic process is weakly stationary if \n",
    "1. $\\E\\bk{X_t} = \\mu$, and\n",
    "2. $\\forall t_i,t_j \\in T$, $Cov(X_{t_i},X_{t_j})=c(t_i-t_j)$, which is a function of only $t_i-t_j$.\n",
    "\n",
    "\n",
    "Now note that:\n",
    "\n",
    "\\begin{split}\n",
    "\\E\\bk{X_t} &= \\E\\bk{\\sumk A_l \\cos(\\omega_l t) + B_l \\sin(\\omega_l t)} \\\\\n",
    "           &= \\sumk \\E\\bk{A_l} \\cos(\\omega_l t) + \\E\\bk{B_l} \\sin(\\omega_l t) \\\\\n",
    "           &= 0, \\text{ a constant}\n",
    "\\end{split}\n",
    "\n",
    "So, 1 is true. We now need to show that the $Cov(X_{t_i},X_{t_j})$ is a function of only $t_i-t_j$.\n",
    "\n",
    "\\begin{split}\n",
    "Cov(\\Xti, Xtj) &= \\E\\bk{\\Xti\\Xtj} - \\E\\bk{\\Xti}\\E\\bk{\\Xtj} \\\\\n",
    "               &= \\E\\bk{\\Xti\\Xtj} - 0 \\\\\n",
    "               &= \\E\\bk{\\bc{\\sumk A_l\\cos(\\omega_l t_i) + B_l\\sin(\\omega_l t_i)} \\times \n",
    "                        \\bc{\\sumk A_l\\cos(\\omega_l t_j) + B_l\\sin(\\omega_l t_j)}} \\\\\n",
    "               &= \\E\\bk{\\sumk\\bc{A_l\\cos(\\omega_l t_i) + B_l\\sin(\\omega_l t_i)}\\times\n",
    "                             \\bc{A_l\\cos(\\omega_l t_j) + B_l\\sin(\\omega_l t_j)} } + 0 \\\\\n",
    "               &= \\E\\bk{\\sumk A_l^2 \\cos(\\omega_l t_i)\\cos(\\omega_l t_j) +  \n",
    "                              B_l^2 \\sin(\\omega_l t_i)\\sin(\\omega_l t_j) +\n",
    "                              A_l B_l(\\sin(\\omega_l t_i)\\cos(\\omega_l t_j) + \\cos(\\omega_l t_i)\\sin(\\omega_l t_j))} \\\\\n",
    "               &= \\sumk\\bc{\\E\\bk{A_l^2}\\cos(\\omega_l t_i)\\cos(\\omega_l t_j) + \n",
    "                           \\E\\bk{B_l^2}\\sin(\\omega_l t_i)\\sin(\\omega_l t_j) + 0} \\\\\n",
    "               &= \\sumk\\bc{(Var\\bk{A_l^2}+0)\\cos(\\omega_l t_i)\\cos(\\omega_l t_j) + \n",
    "                           (Var\\bk{B_l^2}+0)\\sin(\\omega_l t_i)\\sin(\\omega_l t_j)} \\\\\n",
    "               &= \\sumk\\sigma_l^2\\bc{\\cos(\\omega_l t_i)\\cos(\\omega_l t_j) + \n",
    "                                     \\sin(\\omega_l t_i)\\sin(\\omega_l t_j)} \\\\                          \n",
    "               &= \\sumk\\sigma_l^2\\bc{\\cos(~\\omega_l(t_i-t_j)~)}, \\text{ which is a function of only $t_i-t_j$.}\\\\\n",
    "\\end{split}\n",
    "\n",
    "Therefore, $X$ is a weakly stationary process."
   ]
  },
  {
   "cell_type": "markdown",
   "metadata": {
    "collapsed": true
   },
   "source": [
    "# 2\n",
    "\n",
    "**Consider a discrete-time, real-valued stochastic process $X=\\bc{X_n: n\\in \\mathbb{N}}$ defined by\n",
    "$X_n = \\cos(nU)$, where $U$ is distributed Uniform($-\\pi,\\pi$). Show that $X$ is weakly stationary but not\n",
    "strongly stationary. **\n",
    "\n",
    "***\n",
    "\n",
    "\\begin{split}\n",
    "X_n &= \\cos(nU) \\\\\n",
    "\\\\\n",
    "f_{X_n}(x_n) &= f_U(\\cos^{-1}(x_n) / n ) \\abs{\\frac{d}{dx_n} \\frac{\\cos^{-1}(x_n)}{n}} \\\\\n",
    "&= \\frac{1}{2\\pi} \\frac{1}{n\\sqrt{1-x_n^2}} \\\\\n",
    "&= \\frac{1}{2\\pi n\\sqrt{1-x_n^2}} \\\\\n",
    "\\\\\n",
    "\\E\\bk{X_n} &= \\int_{-1}^1 x_n f_{x_n}(x_n) dx_n \\\\\n",
    "\\end{split}\n",
    "\n",
    "By letting $x_n = \\cos y_n$, we easily solve the expected value required to be 0. \n",
    "\n",
    "\\begin{split}\n",
    "Cov(X_i,X_j) &= \\E\\bk{X_i X_j} - \\E\\bk{X_i}\\E\\bk{X_j} \\\\\n",
    "             &= \\E\\bk{X_i X_j} - 0 \\\\\n",
    "             &= \\E\\bk{\\cos(iU) \\cos(jU)} \\\\\n",
    "             &= \\frac{1}{2} \\E\\bk{\\cos(iU + jU) + \\cos(iU - jU)} \\\\\n",
    "             &= \\frac{1}{2} \\E\\bk{\\cos(\\bk{i+j}U) + \\cos(\\bk{i-j}U)} \\\\\n",
    "             &= \\frac{1}{2} \\bc{\\E\\bk{\\cos(\\bk{i+j}U)} + \\E\\bk{\\cos(\\bk{i-j}U)}} \\\\\n",
    "             &= \\frac{1}{2} \\bc{0 + \\E\\bk{\\cos(\\bk{i-j}U)}} \\\\\n",
    "\\end{split}\n",
    "\n",
    "which is a function of only $i-j$. Note also, that the $\\E\\bk{\\cos(\\bk{i-j}U)}$ is simply $1$ if $i=j$ and 0 otherwise. Therefore, the covariance is $\\frac{1}{2}$ if $j=i$ and 0 otherwise.\n",
    "\n",
    "To show that $X$ is not SS, consider $X_1=cos(u), X_2=cos(2u)$. Clearly, they do not have the same distributions.\n",
    "Therefore, $X$ is not SS."
   ]
  },
  {
   "cell_type": "markdown",
   "metadata": {},
   "source": [
    "# 3 \n",
    "** Consider a weakly stationary process $X=\\bc{X_t: t\\in\\mathbb{R}}$ with zero mean and unit variance. Find the correlation function of $X$ if the spectral density function $f$  of $X$ is given by: **\n",
    "1. $f(u) = 0.5\\exp(-\\abs{u})$\n",
    "2. $f(u) = \\phi (\\alpha^2 + u^2)^{-1}$\n",
    "3. $f(u) = 0.5\\sigma(\\pi\\alpha)^{-1}\\exp(-u^2/(4\\alpha))$\n",
    "\n",
    "**where in each case, $u \\in \\mathbb{R}$.**\n",
    "\n",
    "---\n",
    "\n"
   ]
  },
  {
   "cell_type": "markdown",
   "metadata": {},
   "source": [
    "# 4\n",
    "**Show that strong and weak stationarity are equivalent for a Gaussian Process.**\n",
    "\n",
    "\n",
    "---"
   ]
  },
  {
   "cell_type": "markdown",
   "metadata": {},
   "source": [
    "# 5\n",
    "**By definition, a continuous-time, real-valued stochastic process $X=\\bc{X_t: t\\in\\mathbb{R}}$ is called a \n",
    "Markov process if for all $n$, for all $x=x_1,...,x_n$, and all increasing sequences, $t_1,...,t_n$ of index\n",
    "points,** \n",
    "\n",
    "$$P(X_{t_n}\\le x ~|~ X_{t_1}=x_1,...,  X_{t_n}=x_n) = P(X_{t_n}\\le x ~|~ X_{t_n}=x_n)$$\n",
    "\n",
    "**Let $Z$ be a real-valued GP. Show that $Z$ is a Markov process iff $\\E(X_{t_n} ~|~ X_{t_1}=x_1,...,  X_{t_n}=x_n) = \\E(X_{t_n} ~|~ X_{t_n}=x_n)$.**\n",
    "\n",
    "---\n"
   ]
  },
  {
   "cell_type": "markdown",
   "metadata": {
    "collapsed": true
   },
   "source": [
    "# 6\n",
    "**Show that any stochastic process $X=\\bc{X_n: n=0,...}$ with independent increments is a Markov process.**\n",
    "\n",
    "http://statweb.stanford.edu/~adembo/math-136/Markov_note.pdf"
   ]
  },
  {
   "cell_type": "markdown",
   "metadata": {},
   "source": [
    "# 7\n",
    "**Let $W=\\bc{W_t:t\\ge 0}$ is a Brownian motion. Show that a Brownian motion can be viewed as a GP with\n",
    "mean 0 and Cov($W_s,W_t$) = min$\\bc{s,t}$.**\n",
    "\n",
    "---"
   ]
  },
  {
   "cell_type": "markdown",
   "metadata": {},
   "source": [
    "# 8\n",
    "**Show that for a Brownian motion $\\E\\bk{\\abs{W_s-Wt}^{2n}} = \\ds\\frac{(2n)!}{2^n n!}\\abs{s-t}^n $.**\n",
    "\n",
    "---"
   ]
  },
  {
   "cell_type": "code",
   "execution_count": null,
   "metadata": {
    "collapsed": true
   },
   "outputs": [],
   "source": []
  }
 ],
 "metadata": {
  "kernelspec": {
   "display_name": "R",
   "language": "R",
   "name": "ir"
  },
  "language_info": {
   "codemirror_mode": "r",
   "file_extension": ".r",
   "mimetype": "text/x-r-source",
   "name": "R",
   "pygments_lexer": "r",
   "version": "3.3.2"
  }
 },
 "nbformat": 4,
 "nbformat_minor": 0
}

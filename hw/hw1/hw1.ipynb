{
 "cells": [
  {
   "cell_type": "markdown",
   "metadata": {},
   "source": [
    "Open in [nbviewer](http://nbviewer.jupyter.org/github/luiarthur/stochastic_AMS263/blob/master/hw/hw1/hw1.ipynb)\n",
    "$\n",
    "% Latex definitions\n",
    "% note: Ctrl-shfit-p for shortcuts menu\n",
    "\\newcommand{\\iid}{\\overset{iid}{\\sim}}\n",
    "\\newcommand{\\ind}{\\overset{ind}{\\sim}}\n",
    "\\newcommand{\\p}[1]{\\left(#1\\right)}\n",
    "\\newcommand{\\bk}[1]{\\left[#1\\right]}\n",
    "\\newcommand{\\bc}[1]{ \\left\\{#1\\right\\} }\n",
    "\\newcommand{\\abs}[1]{ \\left|#1\\right| }\n",
    "\\newcommand{\\norm}[1]{ \\left|\\left|#1\\right|\\right| }\n",
    "\\newcommand{\\E}{ \\text{E} }\n",
    "\\newcommand{\\N}{ \\mathcal N }\n",
    "\\newcommand{\\ds}{ \\displaystyle }\n",
    "\\newcommand{\\R}{ \\mathbb{R} }\n",
    "\\newcommand{\\suml}{ \\sum_{i=1}^n }\n",
    "\\newcommand{\\prodl}{ \\prod_{i=1}^n }\n",
    "\\newcommand{\\overunderset}[3]{\\overset{#1}{\\underset{#2}{#3}}}\n",
    "\\newcommand{\\asym}{\\overset{\\cdot}{\\sim}}\n",
    "\\newcommand{\\given}{\\bigg |}\n",
    "\\newcommand{\\M}{\\mathcal{M}}\n",
    "\\newcommand{\\Mult}{\\text{Mult}}\n",
    "\\newcommand{\\F}{\\mathcal{F}}\n",
    "\\newcommand{\\P}{\\mathcal{P}}\n",
    "$"
   ]
  },
  {
   "cell_type": "markdown",
   "metadata": {},
   "source": [
    "# 1  \n",
    "$\\newcommand{\\sumk}{\\sum_{l=1}^k}$\n",
    "$\\newcommand{\\Xti}{X_{t_i}}$\n",
    "$\\newcommand{\\Xtj}{X_{t_j}}$\n",
    "\n",
    "Recall that a stochastic process is weakly stationary if \n",
    "1. $\\E\\bk{X_t} = \\mu$, and\n",
    "2. $\\forall t_i,t_j \\in T$, $Cov(X_{t_i},X_{t_j})=c(t_i-t_j)$, which is a function of only $t_i-t_j$.\n",
    "\n",
    "\n",
    "Now note that:\n",
    "\n",
    "\\begin{split}\n",
    "\\E\\bk{X_t} &= \\E\\bk{\\sumk A_l \\cos(\\omega_l t) + B_l \\sin(\\omega_l t)} \\\\\n",
    "           &= \\sumk \\E\\bk{A_l} \\cos(\\omega_l t) + \\E\\bk{B_l} \\sin(\\omega_l t) \\\\\n",
    "           &= 0, \\text{ a constant}\n",
    "\\end{split}\n",
    "\n",
    "So, 1 is true. We now need to show that the $Cov(X_{t_i},X_{t_j})$ is a function of only $t_i-t_j$.\n",
    "\n",
    "\\begin{split}\n",
    "Cov(\\Xti, Xtj) &= \\E\\bk{\\Xti\\Xtj} - \\E\\bk{\\Xti}\\E\\bk{\\Xtj} \\\\\n",
    "               &= \\E\\bk{\\Xti\\Xtj} - 0 \\\\\n",
    "               &= \\E\\bk{\\bc{\\sumk A_l\\cos(\\omega_l t_i) + B_l\\sin(\\omega_l t_i)} \\times \n",
    "                        \\bc{\\sumk A_l\\cos(\\omega_l t_j) + B_l\\sin(\\omega_l t_j)}} \\\\\n",
    "               &= \\E\\bk{\\sumk\\bc{A_l\\cos(\\omega_l t_i) + B_l\\sin(\\omega_l t_i)}\\times\n",
    "                             \\bc{A_l\\cos(\\omega_l t_j) + B_l\\sin(\\omega_l t_j)} } + 0 \\\\\n",
    "               &= \\E\\bk{\\sumk A_l^2 \\cos(\\omega_l t_i)\\cos(\\omega_l t_j) +  \n",
    "                              B_l^2 \\sin(\\omega_l t_i)\\sin(\\omega_l t_j) +\n",
    "                              A_l B_l(\\sin(\\omega_l t_i)\\cos(\\omega_l t_j) + \\cos(\\omega_l t_i)\\sin(\\omega_l t_j))} \\\\\n",
    "               &= \\sumk\\bc{\\E\\bk{A_l^2}\\cos(\\omega_l t_i)\\cos(\\omega_l t_j) + \n",
    "                           \\E\\bk{B_l^2}\\sin(\\omega_l t_i)\\sin(\\omega_l t_j) + 0} \\\\\n",
    "               &= \\sumk\\bc{(Var\\bk{A_l^2}+0)\\cos(\\omega_l t_i)\\cos(\\omega_l t_j) + \n",
    "                           (Var\\bk{B_l^2}+0)\\sin(\\omega_l t_i)\\sin(\\omega_l t_j)} \\\\\n",
    "               &= \\sumk\\sigma_l^2\\bc{\\cos(\\omega_l t_i)\\cos(\\omega_l t_j) + \n",
    "                                     \\sin(\\omega_l t_i)\\sin(\\omega_l t_j)} \\\\                          \n",
    "               &= \\sumk\\sigma_l^2\\bc{\\cos(~\\omega_l(t_i-t_j)~)}, \\text{ which is a function of only $t_i-t_j$.}\\\\\n",
    "\\end{split}\n",
    "\n",
    "Therefore, $X$ is a weakly stationary process."
   ]
  },
  {
   "cell_type": "markdown",
   "metadata": {
    "collapsed": true
   },
   "source": [
    "# 2\n",
    "\\begin{split}\n",
    "X_n &= \\cos(nU) \\\\\n",
    "\\\\\n",
    "f_{X_n}(x_n) &= f_U(\\cos^{-1}(x_n) / n ) \\abs{\\frac{d}{dx_n} \\frac{\\cos^{-1}(x_n)}{n}} \\\\\n",
    "&= \\frac{1}{2\\pi} \\frac{1}{n\\sqrt{1-x_n^2}} \\\\\n",
    "&= \\frac{1}{2\\pi n\\sqrt{1-x_n^2}} \\\\\n",
    "\\\\\n",
    "\\E\\bk{X_n} &= \\int_{-1}^1 x_n f_{x_n}(x_n) dx_n \\\\\n",
    "\\end{split}\n",
    "\n",
    "By letting $x_n = \\cos y_n$, we easily solve the expected value required to be 0. \n",
    "\n",
    "\\begin{split}\n",
    "Cov(X_i,X_j) &= \\E\\bk{X_i X_j} - \\E\\bk{X_i}\\E\\bk{X_j} \\\\\n",
    "             &= \\E\\bk{X_i X_j} - 0 \\\\\n",
    "             &= \\E\\bk{\\cos(iU) \\cos(jU)} \\\\\n",
    "             &= \\frac{1}{2} \\E\\bk{\\cos(iU + jU) + \\cos(iU - jU)} \\\\\n",
    "             &= \\frac{1}{2} \\E\\bk{\\cos(\\bk{i+j}U) + \\cos(\\bk{i-j}U)} \\\\\n",
    "             &= \\frac{1}{2} \\bc{\\E\\bk{\\cos(\\bk{i+j}U)} + \\E\\bk{\\cos(\\bk{i-j}U)}} \\\\\n",
    "             &= \\frac{1}{2} \\bc{0 + \\E\\bk{\\cos(\\bk{i-j}U)}} \\\\\n",
    "\\end{split}\n",
    "\n",
    "which is a function of only $i-j$. Note also, that the $\\E\\bk{\\cos(\\bk{i-j}U)}$ is simply $1$ if $i=j$ and 0 otherwise. Therefore, the covariance is $\\frac{1}{2}$ if $j=i$ and 0 otherwise."
   ]
  },
  {
   "cell_type": "code",
   "execution_count": null,
   "metadata": {
    "collapsed": true
   },
   "outputs": [],
   "source": []
  }
 ],
 "metadata": {
  "kernelspec": {
   "display_name": "R",
   "language": "R",
   "name": "ir"
  },
  "language_info": {
   "codemirror_mode": "r",
   "file_extension": ".r",
   "mimetype": "text/x-r-source",
   "name": "R",
   "pygments_lexer": "r",
   "version": "3.3.2"
  }
 },
 "nbformat": 4,
 "nbformat_minor": 0
}
